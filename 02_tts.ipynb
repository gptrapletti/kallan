{
 "cells": [
  {
   "cell_type": "code",
   "execution_count": 2,
   "metadata": {},
   "outputs": [],
   "source": [
    "from openai import OpenAI\n",
    "from tqdm import tqdm\n",
    "import json\n",
    "import pydub\n",
    "import os"
   ]
  },
  {
   "cell_type": "code",
   "execution_count": 3,
   "metadata": {},
   "outputs": [
    {
     "data": {
      "text/plain": [
       "210"
      ]
     },
     "execution_count": 3,
     "metadata": {},
     "output_type": "execute_result"
    }
   ],
   "source": [
    "with open('translations_202312021800.json', 'r') as file:\n",
    "    translations = json.load(file)\n",
    "    \n",
    "len(translations)"
   ]
  },
  {
   "cell_type": "code",
   "execution_count": 4,
   "metadata": {},
   "outputs": [
    {
     "data": {
      "text/plain": [
       "6.165675"
      ]
     },
     "execution_count": 4,
     "metadata": {},
     "output_type": "execute_result"
    }
   ],
   "source": [
    "# Real cost ------------------ TODO: fix on nb 1\n",
    "total_text = ''\n",
    "for chunk in translations:\n",
    "    total_text += chunk\n",
    "    \n",
    "len(total_text) / 1000 * 0.015"
   ]
  },
  {
   "cell_type": "code",
   "execution_count": 10,
   "metadata": {},
   "outputs": [],
   "source": [
    "# for translation in translations:\n",
    "#     print(translation)\n",
    "#     print()"
   ]
  },
  {
   "cell_type": "code",
   "execution_count": 5,
   "metadata": {},
   "outputs": [],
   "source": [
    "client = OpenAI()"
   ]
  },
  {
   "cell_type": "code",
   "execution_count": 17,
   "metadata": {},
   "outputs": [
    {
     "name": "stderr",
     "output_type": "stream",
     "text": [
      "100%|██████████| 35/35 [12:15<00:00, 21.02s/it]\n"
     ]
    }
   ],
   "source": [
    "for i, translation in tqdm(enumerate(translations[175:]), total=len(translations[175:])):                ### !\n",
    "    filename = f'{str(175 + i).zfill(3)}.mp3'                                                            ### !\n",
    "    filepath = os.path.join('audio', filename)\n",
    "    \n",
    "    response = client.audio.speech.create(\n",
    "        model=\"tts-1\",\n",
    "        voice=\"onyx\",\n",
    "        input=translation\n",
    "    )\n",
    "    \n",
    "    response.stream_to_file(filepath)"
   ]
  },
  {
   "cell_type": "code",
   "execution_count": 30,
   "metadata": {},
   "outputs": [
    {
     "data": {
      "text/plain": [
       "<_io.BufferedRandom name='kallan.mp3'>"
      ]
     },
     "execution_count": 30,
     "metadata": {},
     "output_type": "execute_result"
    }
   ],
   "source": [
    "# Merge all audio files\n",
    "audio_dir = 'audio'\n",
    "combined = pydub.AudioSegment.empty() # empty audio\n",
    "\n",
    "for filename in sorted(os.listdir(audio_dir)):\n",
    "    if filename.endswith('.mp3'):\n",
    "        audio = pydub.AudioSegment.from_mp3(os.path.join(audio_dir, filename))\n",
    "        combined += audio\n",
    "\n",
    "combined.export(\"kallan.mp3\", format=\"mp3\")"
   ]
  },
  {
   "cell_type": "markdown",
   "metadata": {},
   "source": [
    "## Translation 174\n",
    "Too long from TTS, needs to be split in two"
   ]
  },
  {
   "cell_type": "code",
   "execution_count": 20,
   "metadata": {},
   "outputs": [],
   "source": [
    "def from_senteces_to_str(sentences):\n",
    "    text = ''\n",
    "    for sentence in sentences:\n",
    "        text += sentence + '.' + ' '\n",
    "    \n",
    "    return text"
   ]
  },
  {
   "cell_type": "code",
   "execution_count": 22,
   "metadata": {},
   "outputs": [
    {
     "data": {
      "text/plain": [
       "5585"
      ]
     },
     "execution_count": 22,
     "metadata": {},
     "output_type": "execute_result"
    }
   ],
   "source": [
    "translation174 = translations[174]\n",
    "len(translation174)"
   ]
  },
  {
   "cell_type": "code",
   "execution_count": 23,
   "metadata": {},
   "outputs": [
    {
     "data": {
      "text/plain": [
       "27"
      ]
     },
     "execution_count": 23,
     "metadata": {},
     "output_type": "execute_result"
    }
   ],
   "source": [
    "sentences174 = translation174.split('.')\n",
    "\n",
    "len(sentences174)"
   ]
  },
  {
   "cell_type": "code",
   "execution_count": 26,
   "metadata": {},
   "outputs": [
    {
     "data": {
      "text/plain": [
       "(3094, 2519)"
      ]
     },
     "execution_count": 26,
     "metadata": {},
     "output_type": "execute_result"
    }
   ],
   "source": [
    "i = 10 # split point empirically chosen to split in two parte similarly large\n",
    "translation_174_1 = from_senteces_to_str(sentences174[:i])\n",
    "translation_174_2 = from_senteces_to_str(sentences174[i:])\n",
    "\n",
    "len(translation_174_1), len(translation_174_2)"
   ]
  },
  {
   "cell_type": "code",
   "execution_count": 29,
   "metadata": {},
   "outputs": [],
   "source": [
    "filename = '174_2.mp3'                                                           \n",
    "filepath = os.path.join('audio', filename)\n",
    "\n",
    "response = client.audio.speech.create(\n",
    "    model=\"tts-1\",\n",
    "    voice=\"onyx\",\n",
    "    input=translation_174_2\n",
    ")\n",
    "\n",
    "response.stream_to_file(filepath)"
   ]
  }
 ],
 "metadata": {
  "kernelspec": {
   "display_name": "gym",
   "language": "python",
   "name": "python3"
  },
  "language_info": {
   "codemirror_mode": {
    "name": "ipython",
    "version": 3
   },
   "file_extension": ".py",
   "mimetype": "text/x-python",
   "name": "python",
   "nbconvert_exporter": "python",
   "pygments_lexer": "ipython3",
   "version": "3.9.16"
  }
 },
 "nbformat": 4,
 "nbformat_minor": 2
}
