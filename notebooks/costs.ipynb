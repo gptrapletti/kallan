{
 "cells": [
  {
   "cell_type": "code",
   "execution_count": 1,
   "metadata": {},
   "outputs": [],
   "source": [
    "import json\n",
    "from src.utils import count_tokens"
   ]
  },
  {
   "cell_type": "code",
   "execution_count": 2,
   "metadata": {},
   "outputs": [],
   "source": [
    "with open('../output/original_chunks.json', 'r') as f:\n",
    "    chapter_chunks = json.load(f)"
   ]
  },
  {
   "cell_type": "code",
   "execution_count": 3,
   "metadata": {},
   "outputs": [],
   "source": [
    "total_text = ''\n",
    "for chapter, chunks in chapter_chunks.items():\n",
    "    for chunk in chunks:\n",
    "        total_text += chunk"
   ]
  },
  {
   "cell_type": "code",
   "execution_count": 4,
   "metadata": {},
   "outputs": [
    {
     "data": {
      "text/plain": [
       "(145436, 401465)"
      ]
     },
     "execution_count": 4,
     "metadata": {},
     "output_type": "execute_result"
    }
   ],
   "source": [
    "n_tokens = count_tokens(total_text)\n",
    "n_characters = len(total_text)\n",
    "\n",
    "n_tokens, n_characters"
   ]
  },
  {
   "cell_type": "code",
   "execution_count": 5,
   "metadata": {},
   "outputs": [
    {
     "data": {
      "text/plain": [
       "0.44"
      ]
     },
     "execution_count": 5,
     "metadata": {},
     "output_type": "execute_result"
    }
   ],
   "source": [
    "# Translation cost GPT3.5\n",
    "cost_input_1k_tokens = 0.001\n",
    "cost_output_1k_tokens = 0.002\n",
    "\n",
    "translation_cost = round((n_tokens / 1000) * (cost_input_1k_tokens + cost_output_1k_tokens), 2)\n",
    "translation_cost"
   ]
  },
  {
   "cell_type": "code",
   "execution_count": 6,
   "metadata": {},
   "outputs": [
    {
     "data": {
      "text/plain": [
       "5.82"
      ]
     },
     "execution_count": 6,
     "metadata": {},
     "output_type": "execute_result"
    }
   ],
   "source": [
    "# Translation cost GPT4\n",
    "cost_input_1k_tokens = 0.01\n",
    "cost_output_1k_tokens = 0.03\n",
    "\n",
    "translation_cost = round((n_tokens / 1000) * (cost_input_1k_tokens + cost_output_1k_tokens), 2)\n",
    "translation_cost"
   ]
  },
  {
   "cell_type": "code",
   "execution_count": 7,
   "metadata": {},
   "outputs": [
    {
     "data": {
      "text/plain": [
       "6.02"
      ]
     },
     "execution_count": 7,
     "metadata": {},
     "output_type": "execute_result"
    }
   ],
   "source": [
    "# Text-to-speech cost\n",
    "cost_tts_1k_characters = 0.015\n",
    "\n",
    "tts_cost = round((n_characters / 1000) * cost_tts_1k_characters, 2)\n",
    "tts_cost "
   ]
  }
 ],
 "metadata": {
  "kernelspec": {
   "display_name": "gym",
   "language": "python",
   "name": "python3"
  },
  "language_info": {
   "codemirror_mode": {
    "name": "ipython",
    "version": 3
   },
   "file_extension": ".py",
   "mimetype": "text/x-python",
   "name": "python",
   "nbconvert_exporter": "python",
   "pygments_lexer": "ipython3",
   "version": "3.9.16"
  }
 },
 "nbformat": 4,
 "nbformat_minor": 2
}
